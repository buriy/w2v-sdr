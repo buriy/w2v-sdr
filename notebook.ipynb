{
 "cells": [
  {
   "cell_type": "code",
   "execution_count": 4,
   "metadata": {
    "collapsed": false
   },
   "outputs": [
    {
     "name": "stdout",
     "output_type": "stream",
     "text": [
      "Populating the interactive namespace from numpy and matplotlib\n"
     ]
    }
   ],
   "source": [
    "import numpy\n",
    "numpy.set_printoptions(4, suppress=True)\n",
    "%pylab inline\n",
    "pylab.rcParams['figure.figsize'] = (24, 12)"
   ]
  },
  {
   "cell_type": "code",
   "execution_count": 52,
   "metadata": {
    "collapsed": false
   },
   "outputs": [],
   "source": [
    "def pvec(n, c=None):\n",
    "    if c is None:\n",
    "        c = v[n]\n",
    "    return u\"{:15s}: {}\".format(n, c[:9])\n",
    "\n",
    "def pmerge(self, n=10):\n",
    "    return '\\n'.join([u\"{:6f} {}\".format(b, pvec(v.vocab[a])) for a,b in r])\n",
    "\n",
    "def merge(self, pos, neg, exclude=None, n=10):\n",
    "        \"\"\"\n",
    "        Analogy similarity.\n",
    "\n",
    "        Parameters\n",
    "        ----------\n",
    "        pos : list\n",
    "        neg : list\n",
    "\n",
    "        Returns\n",
    "        -------\n",
    "        2 numpy.array:\n",
    "            1. position in self.vocab\n",
    "            2. cosine similarity\n",
    "\n",
    "        Example\n",
    "        -------\n",
    "            `king - man + woman = queen` will be:\n",
    "            `pos=['king', 'woman'], neg=['man']`\n",
    "        \"\"\"\n",
    "        if exclude is None:\n",
    "            exclude = pos + neg\n",
    "        pos = [(word, 1.0) for word in pos]\n",
    "        neg = [(word, -1.0) for word in neg]\n",
    "\n",
    "        mean = []\n",
    "        for word, direction in pos + neg:\n",
    "            mean.append(direction * self[word])\n",
    "        mean = np.array(mean).mean(axis=0)\n",
    "\n",
    "        metrics = np.dot(self.vectors, mean)\n",
    "        best = metrics.argsort()[::-1][:n + len(exclude)]\n",
    "\n",
    "        exclude_idx = [np.where(best == self.ix(word)) for word in exclude if\n",
    "                       self.ix(word) in best]\n",
    "        new_best = np.delete(best, exclude_idx)\n",
    "        best_metrics = metrics[new_best]\n",
    "        return mean, zip(new_best[:n], best_metrics[:n])"
   ]
  },
  {
   "cell_type": "code",
   "execution_count": 42,
   "metadata": {
    "collapsed": true
   },
   "outputs": [],
   "source": [
    "import word2vec"
   ]
  },
  {
   "cell_type": "code",
   "execution_count": 6,
   "metadata": {
    "collapsed": true
   },
   "outputs": [],
   "source": [
    "v = word2vec.load('ru-all.200.bin', 'bin')"
   ]
  },
  {
   "cell_type": "code",
   "execution_count": 53,
   "metadata": {
    "collapsed": false
   },
   "outputs": [
    {
     "name": "stdout",
     "output_type": "stream",
     "text": [
      "мужчина        : [-0.1178 -0.0163 -0.     -0.0116 -0.0979 -0.1219 -0.0493 -0.1063  0.064 ]\n",
      "женщина        : [-0.0756 -0.0133  0.0265 -0.0036 -0.1108 -0.0945 -0.0254 -0.0694  0.057 ]\n",
      "разность       : [-0.0422 -0.003  -0.0265 -0.008   0.0129 -0.0274 -0.0239 -0.0369  0.0069]\n",
      "сумма          : [-0.1934 -0.0297  0.0265 -0.0151 -0.2087 -0.2163 -0.0748 -0.1757  0.121 ]\n"
     ]
    }
   ],
   "source": [
    "print pvec(u\"мужчина\")\n",
    "print pvec(u\"женщина\")\n",
    "print pvec(u'разность', v[u'мужчина'] - v[u'женщина'])\n",
    "print pvec(u'сумма', v[u'мужчина'] + v[u'женщина'])"
   ]
  },
  {
   "cell_type": "code",
   "execution_count": 62,
   "metadata": {
    "collapsed": false
   },
   "outputs": [
    {
     "name": "stdout",
     "output_type": "stream",
     "text": [
      "-------- NORM SUM       : [ 0.0179  0.0265  0.0282 -0.0561  0.0576 -0.0954  0.0009  0.046   0.0132]\n",
      "0.556198 идёт           : [-0.0325 -0.0306  0.1227 -0.019   0.1196 -0.0552  0.019   0.0138  0.0176]\n",
      "0.556198 сварщик        : [ 0.0682  0.0836 -0.0663 -0.0931 -0.0043 -0.1356 -0.0172  0.0781  0.0088]\n",
      "0.501337 идет           : [-0.0326 -0.0301  0.1441 -0.0587  0.1445 -0.0461  0.026   0.1041  0.0461]\n",
      "0.429913 слесарь        : [ 0.0518  0.1014  0.0031 -0.0621  0.0803 -0.0093 -0.0165  0.0565  0.0529]\n",
      "0.421777 монтажник      : [-0.012   0.0619 -0.058  -0.0756  0.1095  0.015  -0.0367  0.0347  0.0066]\n",
      "0.400966 сантехник      : [-0.0459  0.0997  0.0279 -0.0397  0.0379 -0.0599 -0.0448  0.0329  0.0622]\n",
      "0.397589 ремонтник      : [-0.0157  0.1313  0.0023 -0.085   0.0153 -0.0688  0.0043  0.0003  0.0328]\n",
      "0.394304 далее          : [-0.1098 -0.0499  0.1062  0.0081  0.0849 -0.0031  0.0502 -0.0171  0.0424]\n",
      "0.391315 наладчик       : [ 0.0901  0.1067  0.0188 -0.114   0.028  -0.0311 -0.0733  0.0552 -0.0222]\n",
      "0.391080 начинается     : [-0.0293 -0.0516  0.078   0.0152  0.0845 -0.0339 -0.0755 -0.0459 -0.0639]\n"
     ]
    }
   ],
   "source": [
    "m, r=merge(v, pos=[u'сварщик', u'идёт'], neg=[], n=10, exclude=[])\n",
    "print '--------', pvec(u'NORM SUM', m)\n",
    "print pmerge(r)"
   ]
  },
  {
   "cell_type": "code",
   "execution_count": 33,
   "metadata": {
    "collapsed": true
   },
   "outputs": [],
   "source": []
  },
  {
   "cell_type": "code",
   "execution_count": null,
   "metadata": {
    "collapsed": true
   },
   "outputs": [],
   "source": []
  }
 ],
 "metadata": {
  "kernelspec": {
   "display_name": "Python 2",
   "language": "python",
   "name": "python2"
  },
  "language_info": {
   "codemirror_mode": {
    "name": "ipython",
    "version": 2
   },
   "file_extension": ".py",
   "mimetype": "text/x-python",
   "name": "python",
   "nbconvert_exporter": "python",
   "pygments_lexer": "ipython2",
   "version": "2.7.12"
  }
 },
 "nbformat": 4,
 "nbformat_minor": 0
}

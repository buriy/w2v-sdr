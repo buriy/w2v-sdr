{
 "cells": [
  {
   "cell_type": "code",
   "execution_count": 1,
   "metadata": {
    "collapsed": false
   },
   "outputs": [],
   "source": [
    "# Prerequisites:\n",
    "# sudo apt-get install python2.7 python-pip\n",
    "# sudo pip install numpy word2vec ipython jupyter"
   ]
  },
  {
   "cell_type": "code",
   "execution_count": 2,
   "metadata": {
    "collapsed": false
   },
   "outputs": [],
   "source": [
    "import numpy as np\n",
    "np.set_printoptions(4, suppress=True)\n",
    "#%pylab inline\n",
    "#pylab.rcParams['figure.figsize'] = (24, 12)"
   ]
  },
  {
   "cell_type": "code",
   "execution_count": 3,
   "metadata": {
    "collapsed": false
   },
   "outputs": [],
   "source": [
    "def pvec(n, c=None):\n",
    "    if c is None:\n",
    "        c = v[n]\n",
    "    return u\"{:12s}: {}\".format(n, c[:9])\n",
    "\n",
    "def pmerge(self, n=10):\n",
    "    return '\\n'.join([u\"{:4f} {}\".format(b, pvec(v.vocab[a])) for a,b in r])\n",
    "\n",
    "def merge(self, pos, neg, exclude=None, n=10):\n",
    "        \"\"\"\n",
    "        Analogy similarity.\n",
    "\n",
    "        Parameters\n",
    "        ----------\n",
    "        pos : list\n",
    "        neg : list\n",
    "\n",
    "        Returns\n",
    "        -------\n",
    "        2 numpy.array:\n",
    "            1. position in self.vocab\n",
    "            2. cosine similarity\n",
    "\n",
    "        Example\n",
    "        -------\n",
    "            `king - man + woman = queen` will be:\n",
    "            `pos=['king', 'woman'], neg=['man']`\n",
    "        \"\"\"\n",
    "        if exclude is None:\n",
    "            exclude = pos + neg\n",
    "        pos = [(word, 1.0) for word in pos]\n",
    "        neg = [(word, -1.0) for word in neg]\n",
    "\n",
    "        mean = []\n",
    "        for word, direction in pos + neg:\n",
    "            mean.append(direction * self[word])\n",
    "        mean = np.array(mean).mean(axis=0)\n",
    "\n",
    "        metrics = np.dot(self.vectors, mean)\n",
    "        best = metrics.argsort()[::-1][:n + len(exclude)]\n",
    "\n",
    "        exclude_idx = [np.where(best == self.ix(word)) for word in exclude if\n",
    "                       self.ix(word) in best]\n",
    "        new_best = np.delete(best, exclude_idx)\n",
    "        best_metrics = metrics[new_best]\n",
    "        return mean, zip(new_best[:n], best_metrics[:n])"
   ]
  },
  {
   "cell_type": "code",
   "execution_count": 4,
   "metadata": {
    "collapsed": true
   },
   "outputs": [],
   "source": [
    "import word2vec"
   ]
  },
  {
   "cell_type": "code",
   "execution_count": 5,
   "metadata": {
    "collapsed": false
   },
   "outputs": [],
   "source": [
    "# You can download the data file here: https://github.com/buriy/w2v-sdr/releases/download/ru-all.200.bin/ru-all.200.bin\n",
    "v = word2vec.load('ru-all.200.bin', 'bin')"
   ]
  },
  {
   "cell_type": "code",
   "execution_count": 6,
   "metadata": {
    "collapsed": false
   },
   "outputs": [
    {
     "name": "stdout",
     "output_type": "stream",
     "text": [
      "мужчина     : [-0.1178 -0.0163 -0.     -0.0116 -0.0979 -0.1219 -0.0493 -0.1063  0.064 ]\n",
      "женщина     : [-0.0756 -0.0133  0.0265 -0.0036 -0.1108 -0.0945 -0.0254 -0.0694  0.057 ]\n",
      "DIFF        : [-0.0422 -0.003  -0.0265 -0.008   0.0129 -0.0274 -0.0239 -0.0369  0.0069]\n",
      "SUM         : [-0.1934 -0.0297  0.0265 -0.0151 -0.2087 -0.2163 -0.0748 -0.1757  0.121 ]\n"
     ]
    }
   ],
   "source": [
    "print pvec(u\"мужчина\")\n",
    "print pvec(u\"женщина\")\n",
    "print pvec(u'DIFF', v[u'мужчина'] - v[u'женщина'])\n",
    "print pvec(u'SUM', v[u'мужчина'] + v[u'женщина'])"
   ]
  },
  {
   "cell_type": "code",
   "execution_count": 7,
   "metadata": {
    "collapsed": false
   },
   "outputs": [
    {
     "name": "stdout",
     "output_type": "stream",
     "text": [
      "-------- NORM SUM    : [ 0.0179  0.0265  0.0282 -0.0561  0.0576 -0.0954  0.0009  0.046   0.0132]\n",
      "0.556198 идёт        : [-0.0325 -0.0306  0.1227 -0.019   0.1196 -0.0552  0.019   0.0138  0.0176]\n",
      "0.556198 сварщик     : [ 0.0682  0.0836 -0.0663 -0.0931 -0.0043 -0.1356 -0.0172  0.0781  0.0088]\n",
      "0.501337 идет        : [-0.0326 -0.0301  0.1441 -0.0587  0.1445 -0.0461  0.026   0.1041  0.0461]\n",
      "0.429913 слесарь     : [ 0.0518  0.1014  0.0031 -0.0621  0.0803 -0.0093 -0.0165  0.0565  0.0529]\n",
      "0.421777 монтажник   : [-0.012   0.0619 -0.058  -0.0756  0.1095  0.015  -0.0367  0.0347  0.0066]\n",
      "0.400966 сантехник   : [-0.0459  0.0997  0.0279 -0.0397  0.0379 -0.0599 -0.0448  0.0329  0.0622]\n",
      "0.397589 ремонтник   : [-0.0157  0.1313  0.0023 -0.085   0.0153 -0.0688  0.0043  0.0003  0.0328]\n",
      "0.394304 далее       : [-0.1098 -0.0499  0.1062  0.0081  0.0849 -0.0031  0.0502 -0.0171  0.0424]\n",
      "0.391315 наладчик    : [ 0.0901  0.1067  0.0188 -0.114   0.028  -0.0311 -0.0733  0.0552 -0.0222]\n",
      "0.391080 начинается  : [-0.0293 -0.0516  0.078   0.0152  0.0845 -0.0339 -0.0755 -0.0459 -0.0639]\n"
     ]
    }
   ],
   "source": [
    "m, r=merge(v, pos=[u'сварщик', u'идёт'], neg=[], n=10, exclude=[])\n",
    "print '--------', pvec(u'NORM SUM', m)\n",
    "print pmerge(r)"
   ]
  },
  {
   "cell_type": "code",
   "execution_count": 8,
   "metadata": {
    "collapsed": false
   },
   "outputs": [
    {
     "name": "stdout",
     "output_type": "stream",
     "text": [
      "-------- NORM SUM    : [-0.0967 -0.0148  0.0132 -0.0076 -0.1044 -0.1082 -0.0374 -0.0878  0.0605]\n",
      "0.919654 мужчина     : [-0.1178 -0.0163 -0.     -0.0116 -0.0979 -0.1219 -0.0493 -0.1063  0.064 ]\n",
      "0.919654 женщина     : [-0.0756 -0.0133  0.0265 -0.0036 -0.1108 -0.0945 -0.0254 -0.0694  0.057 ]\n",
      "0.712789 женщины     : [-0.0661 -0.0272  0.0869 -0.0033  0.0035 -0.0466 -0.0665 -0.1599  0.0152]\n",
      "0.708023 мужчины     : [-0.0552 -0.0591  0.0403 -0.0084 -0.0565 -0.0903 -0.0572 -0.1972  0.0674]\n",
      "0.678264 мужчин      : [-0.0708 -0.0032  0.0276 -0.0015 -0.0213 -0.1163 -0.0761 -0.138   0.0432]\n",
      "0.675068 женщин      : [-0.0652  0.0175  0.0159  0.0087  0.0073 -0.0892 -0.1249 -0.0945  0.054 ]\n",
      "0.651993 безработных : [-0.0746 -0.0622 -0.0305 -0.0741 -0.0496 -0.1074 -0.1213 -0.1117 -0.0223]\n",
      "0.605112 безработной : [-0.1092 -0.0408 -0.0464 -0.0234 -0.0677 -0.0961 -0.054   0.0185 -0.0016]\n",
      "0.591637 активных    : [-0.0334 -0.0264 -0.0214 -0.0524 -0.0486 -0.0758 -0.0608 -0.0877  0.0035]\n",
      "0.590332 человека    : [ 0.0329  0.0508  0.0928  0.049  -0.0821 -0.0586 -0.1177 -0.1501  0.1109]\n"
     ]
    }
   ],
   "source": [
    "m, r=merge(v, pos=[u'мужчина', u'женщина'], neg=[], n=10, exclude=[])\n",
    "print '--------', pvec(u'NORM SUM', m)\n",
    "print pmerge(r)"
   ]
  },
  {
   "cell_type": "code",
   "execution_count": 9,
   "metadata": {
    "collapsed": false
   },
   "outputs": [
    {
     "name": "stdout",
     "output_type": "stream",
     "text": [
      "-------- NORM SUM    : [ 0.0442 -0.066   0.1212  0.0331 -0.0235 -0.0266 -0.0385 -0.0657 -0.0252]\n",
      "0.535380 нейросети   : [-0.0299 -0.0385  0.089   0.0924 -0.1344 -0.0867 -0.0602 -0.0993 -0.0433]\n",
      "0.535380 рулят       : [ 0.1183 -0.0936  0.1534 -0.0262  0.0874  0.0336 -0.0168 -0.032  -0.007 ]\n",
      "0.452429 конфликтно  : [-0.0541 -0.0077 -0.0264 -0.002  -0.0399 -0.0573 -0.1017 -0.1449  0.0342]\n",
      "0.426071 решатели    : [-0.0755 -0.0098  0.0744  0.0343 -0.1193 -0.0858 -0.0895 -0.0152 -0.058 ]\n",
      "0.420216 байесовские : [-0.0905  0.0058  0.0547  0.0103 -0.027  -0.0534 -0.0322 -0.1517  0.0015]\n",
      "0.415661 топологиях  : [-0.1293 -0.047   0.1147  0.0088 -0.0115 -0.0489 -0.1362 -0.1     0.0095]\n",
      "0.412755 эксплицировать: [-0.015  -0.0533  0.0722  0.0416  0.0232 -0.1358 -0.04   -0.157  -0.0026]\n",
      "0.412184 непротиворечивыми: [ 0.1367 -0.0098  0.1849  0.0306 -0.0787 -0.1091 -0.0566 -0.1436  0.0541]\n",
      "0.411397 оптимизационные: [ 0.0434 -0.0084  0.0317  0.0009 -0.1647 -0.0828 -0.1253 -0.1026 -0.0923]\n",
      "0.411053 детерминированными: [-0.0016 -0.0083  0.1245  0.0097 -0.0031 -0.1063 -0.1154 -0.0769  0.0506]\n"
     ]
    }
   ],
   "source": [
    "m, r=merge(v, pos=[u'нейросети', u'рулят'], neg=[], n=10, exclude=[])\n",
    "print '--------', pvec(u'NORM SUM', m)\n",
    "print pmerge(r)"
   ]
  },
  {
   "cell_type": "code",
   "execution_count": null,
   "metadata": {
    "collapsed": true
   },
   "outputs": [],
   "source": []
  }
 ],
 "metadata": {
  "kernelspec": {
   "display_name": "Python 2",
   "language": "python",
   "name": "python2"
  },
  "language_info": {
   "codemirror_mode": {
    "name": "ipython",
    "version": 2
   },
   "file_extension": ".py",
   "mimetype": "text/x-python",
   "name": "python",
   "nbconvert_exporter": "python",
   "pygments_lexer": "ipython2",
   "version": "2.7.12"
  }
 },
 "nbformat": 4,
 "nbformat_minor": 0
}
